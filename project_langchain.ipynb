{
  "cells": [
    {
      "cell_type": "markdown",
      "metadata": {
        "id": "view-in-github",
        "colab_type": "text"
      },
      "source": [
        "<a href=\"https://colab.research.google.com/github/kamazoun/promptAI/blob/main/project_langchain.ipynb\" target=\"_parent\"><img src=\"https://colab.research.google.com/assets/colab-badge.svg\" alt=\"Open In Colab\"/></a>"
      ]
    },
    {
      "cell_type": "markdown",
      "id": "861b5ded-43d1-4813-889f-e326ca51dd81",
      "metadata": {
        "id": "861b5ded-43d1-4813-889f-e326ca51dd81"
      },
      "source": [
        "## First, let's make sure that we have the dependencies we need by installing them from requirements.txt"
      ]
    },
    {
      "cell_type": "code",
      "execution_count": null,
      "id": "8285d35c-07e1-41c7-ab79-87a9388c5ea5",
      "metadata": {
        "id": "8285d35c-07e1-41c7-ab79-87a9388c5ea5"
      },
      "outputs": [],
      "source": [
        "!pip install -r requirements.txt -q"
      ]
    },
    {
      "cell_type": "markdown",
      "id": "e4cf0a9f-2847-49b8-9b75-470fe52f5ae3",
      "metadata": {
        "id": "e4cf0a9f-2847-49b8-9b75-470fe52f5ae3"
      },
      "source": [
        "## Now that we have the package installed, let's import them and load the API keys that we will use throughout the project."
      ]
    },
    {
      "cell_type": "code",
      "execution_count": null,
      "id": "beac6d39-e022-49a6-b61b-082b4adeeb61",
      "metadata": {
        "id": "beac6d39-e022-49a6-b61b-082b4adeeb61",
        "outputId": "0aeb5db5-4859-4428-fb34-e6d839222e79"
      },
      "outputs": [
        {
          "data": {
            "text/plain": [
              "True"
            ]
          },
          "execution_count": 2,
          "metadata": {},
          "output_type": "execute_result"
        }
      ],
      "source": [
        "import os\n",
        "from dotenv import load_dotenv, find_dotenv\n",
        "\n",
        "load_dotenv(find_dotenv(), override=True)"
      ]
    },
    {
      "cell_type": "markdown",
      "id": "586e020b-34f7-4ea6-9344-3001d0f58661",
      "metadata": {
        "id": "586e020b-34f7-4ea6-9344-3001d0f58661"
      },
      "source": [
        "## Let's get some answers from OpenAI API through LangChain"
      ]
    },
    {
      "cell_type": "code",
      "execution_count": null,
      "id": "b5f664dc-265d-4435-8bbd-0c91a78e2c02",
      "metadata": {
        "id": "b5f664dc-265d-4435-8bbd-0c91a78e2c02",
        "outputId": "e1df5bb0-9ad8-4412-d566-f7626ddb6e04"
      },
      "outputs": [
        {
          "data": {
            "text/plain": [
              "'\\n\\nThe original paper of Bitcoin is titled \"Bitcoin: A Peer-to-Peer Electronic Cash System\" and was published in 2008 by Satoshi Nakamoto. It can be found at https://bitcoin.org/bitcoin.pdf.'"
            ]
          },
          "execution_count": 3,
          "metadata": {},
          "output_type": "execute_result"
        }
      ],
      "source": [
        "# Import the OpenAI wrapper\n",
        "from langchain.llms import OpenAI\n",
        "\n",
        "llm = OpenAI(model_name='text-davinci-003', temperature = 0.7, max_tokens = 128)\n",
        "query = 'Can you tell me what is the original paper of bitcoin?'\n",
        "llm(query)\n"
      ]
    },
    {
      "cell_type": "markdown",
      "id": "211e63bc-b046-4fe1-bb73-8f67baa60264",
      "metadata": {
        "id": "211e63bc-b046-4fe1-bb73-8f67baa60264"
      },
      "source": [
        "## Good. We will use the link that the Davinci engine provided us to download the original Bitcoin paper and build a question answering app that will help us understand it."
      ]
    },
    {
      "cell_type": "markdown",
      "id": "466b0fe9-109e-4cfe-a251-9faded4f9332",
      "metadata": {
        "id": "466b0fe9-109e-4cfe-a251-9faded4f9332"
      },
      "source": [
        "### First let's write a function that will load the content of the Bitcoin PDF paper."
      ]
    },
    {
      "cell_type": "code",
      "execution_count": null,
      "id": "dff73571-0507-474b-87fa-91802469f3a8",
      "metadata": {
        "id": "dff73571-0507-474b-87fa-91802469f3a8"
      },
      "outputs": [],
      "source": [
        "from langchain.document_loaders import PyPDFLoader\n",
        "\n",
        "def load_pdf(path):\n",
        "    name, extension = os.path.splitext(path)\n",
        "\n",
        "    if not extension == '.pdf':\n",
        "        raise Exception('Please provide a PDF file')\n",
        "\n",
        "    loader = PyPDFLoader(path)\n",
        "    return loader.load()\n"
      ]
    },
    {
      "cell_type": "markdown",
      "id": "a7b8ead8-16e8-4387-8c3f-cd8062e515c5",
      "metadata": {
        "id": "a7b8ead8-16e8-4387-8c3f-cd8062e515c5"
      },
      "source": [
        "### Let's test the function by getting the content of the PDF and storing it in a variable"
      ]
    },
    {
      "cell_type": "code",
      "execution_count": null,
      "id": "463b1321-2f17-449c-ad06-5a3e6f2ff437",
      "metadata": {
        "id": "463b1321-2f17-449c-ad06-5a3e6f2ff437",
        "outputId": "f7e5938b-b8e1-4a92-de95-8d83ee476bd5"
      },
      "outputs": [
        {
          "name": "stdout",
          "output_type": "stream",
          "text": [
            "Your document contains 9 pages\n"
          ]
        }
      ],
      "source": [
        "data = load_pdf('bitcoin.pdf')\n",
        "\n",
        "print(f'Your document contains {len(data)} pages')"
      ]
    },
    {
      "cell_type": "markdown",
      "id": "03a13ffb-2b31-4603-937c-b5ded83a9c0c",
      "metadata": {
        "id": "03a13ffb-2b31-4603-937c-b5ded83a9c0c"
      },
      "source": [
        "### Now, let's write some functions to help us break the document content into chunks and embed it into a Pinecone vector store"
      ]
    },
    {
      "cell_type": "code",
      "execution_count": null,
      "id": "df35c9cc-96b4-4623-a203-3fd0ff39a6ff",
      "metadata": {
        "id": "df35c9cc-96b4-4623-a203-3fd0ff39a6ff",
        "outputId": "767a2267-48cf-4ba3-e6d1-86353f028fc3"
      },
      "outputs": [
        {
          "name": "stderr",
          "output_type": "stream",
          "text": [
            "C:\\Users\\kamaz\\AppData\\Local\\Programs\\Python\\Python311\\Lib\\site-packages\\pinecone\\index.py:4: TqdmExperimentalWarning: Using `tqdm.autonotebook.tqdm` in notebook mode. Use `tqdm.tqdm` instead to force console mode (e.g. in jupyter console)\n",
            "  from tqdm.autonotebook import tqdm\n"
          ]
        }
      ],
      "source": [
        "import pinecone\n",
        "import tiktoken\n",
        "from langchain.vectorstores import Pinecone\n",
        "from langchain.embeddings.openai import OpenAIEmbeddings\n",
        "\n",
        "embeddings = OpenAIEmbeddings()\n",
        "pinecone.init(api_key=os.environ.get('PINECONE_API_KEY'), environment=os.environ.get('PINECONE_ENV'))\n",
        "\n",
        "def chunk_data(data):\n",
        "    '''\n",
        "        Breaks the data into chunks\n",
        "    '''\n",
        "    from langchain.text_splitter import RecursiveCharacterTextSplitter\n",
        "    text_splitter = RecursiveCharacterTextSplitter(chunk_size=256, chunk_overlap=0)\n",
        "    return text_splitter.split_documents(data)\n",
        "\n",
        "\n",
        "def embedding_cost(texts):\n",
        "    '''\n",
        "        Calculates the cost of the embedding\n",
        "    '''\n",
        "    enc = tiktoken.encoding_for_model('text-embedding-ada-002')\n",
        "    total_tokens = sum([len(enc.encode(page.page_content)) for page in texts])\n",
        "    print(f'Embedding Cost in USD: {total_tokens / 1000 * 0.0004:.6f}')\n",
        "\n",
        "\n",
        "def insert_embedding(index_name, chunks):\n",
        "    '''\n",
        "        Creates a Pinecone index for the embeddings\n",
        "    '''\n",
        "    pinecone.create_index(index_name, dimension=1536, metric='cosine')\n",
        "    vector_store = Pinecone.from_documents(chunks, embeddings, index_name=index_name)\n",
        "    return vector_store\n",
        "\n",
        "\n",
        "def fetch_embeddings(index_name):\n",
        "    '''\n",
        "        Fetches the vector store from a Pinecone index that should exist already\n",
        "    '''\n",
        "    if index_name in pinecone.list_indexes():\n",
        "        print(f'Index {index_name} already exists. Loading embeddings ... ', end='')\n",
        "        vector_store = Pinecone.from_existing_index(index_name, embeddings)\n",
        "        return vector_store\n",
        "\n",
        "\n",
        "def delete_pinecone_index(index_name='all'):\n",
        "    '''\n",
        "        Removes the pinecone index with the given name if given\n",
        "        Otherwise deletes all indices.\n",
        "    '''\n",
        "    if index_name == 'all':\n",
        "        indexes = pinecone.list_indexes()\n",
        "        print('Deleting all indexes ... ')\n",
        "        for index in indexes:\n",
        "            pinecone.delete_index(index)\n",
        "    else:\n",
        "        print(f'Deleting index {index_name} ...', end='')\n",
        "        pinecone.delete_index(index_name)\n",
        "\n",
        "\n"
      ]
    },
    {
      "cell_type": "markdown",
      "id": "8b8521d6-4b4c-41ad-95b1-257bfb602513",
      "metadata": {
        "id": "8b8521d6-4b4c-41ad-95b1-257bfb602513"
      },
      "source": [
        "### Let's get the data chunks and calculate the embedding costs"
      ]
    },
    {
      "cell_type": "code",
      "execution_count": null,
      "id": "8ef157b8-736a-44f2-96c4-fd394d727c74",
      "metadata": {
        "id": "8ef157b8-736a-44f2-96c4-fd394d727c74",
        "outputId": "9ab1bf46-1c38-4476-f61d-9706fbddadb2"
      },
      "outputs": [
        {
          "data": {
            "text/plain": [
              "40"
            ]
          },
          "execution_count": 7,
          "metadata": {},
          "output_type": "execute_result"
        }
      ],
      "source": [
        "chunks = chunk_data(data)\n",
        "len(f'The data has been broken into {len(chunks)} chunks')"
      ]
    },
    {
      "cell_type": "code",
      "execution_count": null,
      "id": "b8199ced-8a7c-4d4c-ae10-5c3fe8cdf188",
      "metadata": {
        "id": "b8199ced-8a7c-4d4c-ae10-5c3fe8cdf188",
        "outputId": "2843824d-d234-4654-b641-2bd774babda6"
      },
      "outputs": [
        {
          "name": "stdout",
          "output_type": "stream",
          "text": [
            "Embedding Cost in USD: 0.002017\n"
          ]
        }
      ],
      "source": [
        "embedding_cost(chunks)"
      ]
    },
    {
      "cell_type": "markdown",
      "id": "586eac3e-62be-4477-8500-d4a21e9a10e9",
      "metadata": {
        "id": "586eac3e-62be-4477-8500-d4a21e9a10e9"
      },
      "source": [
        "### Let's create the vector store"
      ]
    },
    {
      "cell_type": "code",
      "execution_count": null,
      "id": "0c655740-215c-476a-bfea-2123edbdb4ad",
      "metadata": {
        "id": "0c655740-215c-476a-bfea-2123edbdb4ad"
      },
      "outputs": [],
      "source": [
        "# The choosen picone index name\n",
        "pinecone_index = 'bitcoin-paper'\n",
        "\n",
        "# Now we create the vector store\n",
        "vector_store = insert_embedding(pinecone_index, chunks)"
      ]
    },
    {
      "cell_type": "markdown",
      "id": "ad529af9-2ea9-49c8-ac07-7a414620fb1e",
      "metadata": {
        "id": "ad529af9-2ea9-49c8-ac07-7a414620fb1e"
      },
      "source": [
        "### We can verify in our Pinecone account that the index has been created with the correct number of vectors"
      ]
    },
    {
      "cell_type": "markdown",
      "id": "3d918321-f8c9-4bea-a89c-87b4ddeefee6",
      "metadata": {
        "id": "3d918321-f8c9-4bea-a89c-87b4ddeefee6"
      },
      "source": [
        "## Now let's build the actual question answering function"
      ]
    },
    {
      "cell_type": "code",
      "execution_count": null,
      "id": "c67dd4cb-8d04-4d7e-91ff-1f50d95a7754",
      "metadata": {
        "id": "c67dd4cb-8d04-4d7e-91ff-1f50d95a7754"
      },
      "outputs": [],
      "source": [
        "def ask_with_memory(vector_store, question, chat_history=[]):\n",
        "    '''\n",
        "        Queries the vector database with the question, then return the chunks associated to the matching vector in natural language\n",
        "    '''\n",
        "    from langchain.chains import ConversationalRetrievalChain\n",
        "    from langchain.chat_models import ChatOpenAI\n",
        "\n",
        "    llm = ChatOpenAI(temperature=1)\n",
        "    retriever = vector_store.as_retriever(search_type='similarity', search_kwargs={'k': 3})\n",
        "\n",
        "    crc = ConversationalRetrievalChain.from_llm(llm, retriever)\n",
        "    result = crc({'question': question, 'chat_history': chat_history})\n",
        "    chat_history.append((question, result['answer']))\n",
        "\n",
        "    return result, chat_history"
      ]
    },
    {
      "cell_type": "markdown",
      "id": "b1730cd0-9a09-4c22-9ae1-98a0c43e3dc6",
      "metadata": {
        "id": "b1730cd0-9a09-4c22-9ae1-98a0c43e3dc6"
      },
      "source": [
        "### Let's build a loop to ask questions continously"
      ]
    },
    {
      "cell_type": "code",
      "execution_count": null,
      "id": "00679fb1-8fd0-4e3f-b447-95354c5bf3bc",
      "metadata": {
        "id": "00679fb1-8fd0-4e3f-b447-95354c5bf3bc",
        "outputId": "ff7e67ae-4887-4772-f1ae-8c4560c751af"
      },
      "outputs": [
        {
          "name": "stdout",
          "output_type": "stream",
          "text": [
            "Write Quit or Exit to quit\n"
          ]
        },
        {
          "name": "stdin",
          "output_type": "stream",
          "text": [
            "Question #1 What does the document talk about?\n"
          ]
        },
        {
          "name": "stdout",
          "output_type": "stream",
          "text": [
            "The given context does not provide enough information to determine what the document is specifically about.\n",
            "----------------------------------------------------------------------\n"
          ]
        },
        {
          "name": "stdin",
          "output_type": "stream",
          "text": [
            "Question #2 Can you sum up the goal of bitcoin?\n"
          ]
        },
        {
          "name": "stdout",
          "output_type": "stream",
          "text": [
            "The goal of Bitcoin, as outlined in the context, is to be a purely peer-to-peer version of electronic cash. It aims to provide a decentralized system for online transactions without the need for a central authority to issue currency. The goal is to create a digital currency system that is secure, efficient, and free from inflation.\n",
            "----------------------------------------------------------------------\n"
          ]
        },
        {
          "name": "stdin",
          "output_type": "stream",
          "text": [
            "Question #3 What are its main components?\n"
          ]
        },
        {
          "name": "stdout",
          "output_type": "stream",
          "text": [
            "Il n'y a pas suffisamment de contexte pour répondre à cette question. Peut-être faites-vous référence à un texte ou à un document spécifique dont nous ne disposons pas ici. Pourriez-vous fournir plus de détails ou clarifier votre question ?\n",
            "----------------------------------------------------------------------\n"
          ]
        },
        {
          "name": "stdin",
          "output_type": "stream",
          "text": [
            "Question #4 does the context contain explanation on how to build a bitcoin network?\n"
          ]
        },
        {
          "name": "stdout",
          "output_type": "stream",
          "text": [
            "Oui, le contexte donne une explication générale de la construction d'un réseau Bitcoin. Il mentionne que le réseau Bitcoin utilise la preuve de travail pour enregistrer un historique public des transactions et que cela devient rapidement pratiquement impossible à modifier pour un attaquant si les nœuds sont honnêtes. Cependant, les détails spécifiques sur la construction d'un réseau Bitcoin ne sont pas fournis dans ce contexte.\n",
            "----------------------------------------------------------------------\n"
          ]
        },
        {
          "name": "stdin",
          "output_type": "stream",
          "text": [
            "Question #5 quit\n"
          ]
        },
        {
          "name": "stdout",
          "output_type": "stream",
          "text": [
            "Quitting\n"
          ]
        }
      ],
      "source": [
        "i = 1\n",
        "chat_history = []\n",
        "\n",
        "print(\"Write Quit or Exit to quit\")\n",
        "while True:\n",
        "    q = input(f\"Question #{i}\")\n",
        "    i = i + 1\n",
        "    if q.lower() in [\"quit\",\"exit\"]:\n",
        "        print(\"Quitting\")\n",
        "        break\n",
        "    result, _ = ask_with_memory(vector_store, q, chat_history)\n",
        "    print (result['answer'])\n",
        "    print(\"----------------------------------------------------------------------\")"
      ]
    },
    {
      "cell_type": "code",
      "execution_count": null,
      "id": "ffe19353-b802-4abf-8e80-2eb88591c3ef",
      "metadata": {
        "id": "ffe19353-b802-4abf-8e80-2eb88591c3ef"
      },
      "outputs": [],
      "source": []
    }
  ],
  "metadata": {
    "kernelspec": {
      "display_name": "Python 3 (ipykernel)",
      "language": "python",
      "name": "python3"
    },
    "language_info": {
      "codemirror_mode": {
        "name": "ipython",
        "version": 3
      },
      "file_extension": ".py",
      "mimetype": "text/x-python",
      "name": "python",
      "nbconvert_exporter": "python",
      "pygments_lexer": "ipython3",
      "version": "3.11.5"
    },
    "colab": {
      "provenance": [],
      "include_colab_link": true
    }
  },
  "nbformat": 4,
  "nbformat_minor": 5
}